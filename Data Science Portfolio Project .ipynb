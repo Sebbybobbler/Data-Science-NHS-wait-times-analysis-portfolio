{
 "cells": [
  {
   "cell_type": "code",
   "execution_count": 59,
   "id": "09bfc184",
   "metadata": {},
   "outputs": [],
   "source": [
    "import pandas as pd\n",
    "import numpy as np"
   ]
  },
  {
   "cell_type": "code",
   "execution_count": 92,
   "id": "1bbdd711",
   "metadata": {},
   "outputs": [],
   "source": [
    "#Import the datasets from https://www.england.nhs.uk/statistics/statistical-work-areas/diagnostics-waiting-times-and-activity/diagnostics-census-data/\n",
    "#I have combined the quarterly data into yearly csv files. \n",
    "\n",
    "#Each dataframe contains, for each quarter, the number of patients in the NHS which waited between 6 & 13 weeks and \n",
    "#the patients which waited over 13 weeks to recieve diagnostic treatment via consultant for different area's of medicine.\n",
    "wait_time_2017_18=pd.read_csv(\"2017-18.csv\")\n",
    "wait_time_2016_17=pd.read_csv(\"2016-17.csv\")\n",
    "wait_time_2015_16=pd.read_csv(\"2015-16.csv\")\n",
    "wait_time_2014_15=pd.read_csv(\"2014-15.csv\")\n",
    "wait_time_2013_14=pd.read_csv(\"2013-14.csv\")\n",
    "wait_time_2012_13=pd.read_csv(\"2012-13.csv\")\n",
    "wait_time_2011_12=pd.read_csv(\"2011-12.csv\")\n",
    "wait_time_2010_11=pd.read_csv(\"2010-11.csv\")\n",
    "wait_time_2009_10=pd.read_csv(\"2009-10.csv\")\n",
    "wait_time_2008_09=pd.read_csv(\"2008-09.csv\")\n",
    "wait_time_2007_08=pd.read_csv(\"2007-08.csv\")\n",
    "#List containing each dataframe.\n",
    "wait_time_list=[wait_time_2017_18,wait_time_2016_17,wait_time_2015_16,wait_time_2014_15,wait_time_2013_14,wait_time_2012_13,wait_time_2011_12,wait_time_2010_11,wait_time_2009_10,wait_time_2008_09,wait_time_2007_08]\n",
    "\n",
    "#Removing the empty row at the bottom of some dataframes.\n",
    "for i in range(0,len(wait_time_list)):\n",
    "    if wait_time_list[i].shape[0]>13:\n",
    "        wait_time_list[i]=wait_time_list[i].drop(13)\n",
    "               \n",
    "    else:\n",
    "        continue\n",
    "#Check to see if all dataframes have the correct number of rows\n",
    "for item in wait_time_list:\n",
    "    if item.shape[0] != 13:\n",
    "        print(\"Error, the table has too many columns\")\n",
    "    else:\n",
    "        continue\n",
    "\n",
    "#Rename columns of each dataframe, drop the repeated columns.\n",
    "for i in range(0,len(wait_time_list)):\n",
    "    if len(wait_time_list[i].columns)==12:\n",
    "        wait_time_list[i].columns=[\"Department\",\"06 < 13 Weeks, Q1\",\"13+ Weeks, Q1\",\"Area\",\"06 < 13 Weeks, Q2\",\"13+ Weeks, Q2\",\"Area\",\"06 < 13 Weeks, Q3\",\"13+ Weeks, Q3\",\"Area\",\"06 < 13 Weeks, Q4\",\"13+ Weeks, Q4\"]\n",
    "    if \"Area\" in wait_time_list[i].columns.values:\n",
    "        wait_time_list[i]=wait_time_list[i].drop(\"Area\", axis=1)\n",
    "    if \"Area\" in list(wait_time_list[i].iloc[0]):\n",
    "        wait_time_list[i]=wait_time_list[i].drop(0,axis=0)\n",
    "        wait_time_list[i]=wait_time_list[i].transpose()\n",
    "        \n",
    "\n",
    "\n",
    "for i in range(0,len(wait_time_list)):\n",
    "    wait_time_list[i]=wait_time_list[i].rename(columns={1:\"audiology\",2:\"cardiology\", 3:\"endoscopy\", 4:\"gi_physiology\", 5:\"imaging\", 6:\"neurophysiology\", 7:\"opthalmic_science\",8:\"pathology\",9:\"respiratory_physiology\",10:\"urodynamics\",11:\"vascular_technology\",12:\"total\"},inplace=False)\n",
    "    wait_time_list[i]=wait_time_list[i].drop(labels=[\"Department\"],axis=0,inplace=False)\n",
    "    wait_time_list[i]=wait_time_list[i].apply(lambda x: x.str.replace(\",\",\"\").astype(float), axis=1)        \n",
    "        \n",
    "#Iterate through list to attach a row to each dataframe consisting of the year \n",
    "\n",
    "for i in range(0,len(wait_time_list)):\n",
    "    years=[2017,2016,2015,2014,2013,2012,2011,2010,2009,2008,2007]\n",
    "    wait_time_list[i].insert(12, \"Year\",[years[i],years[i],years[i],years[i],years[i],years[i],years[i],years[i]])\n",
    "\n",
    "#Rename the individual data frames to reflect the changes in shape and added info.\n",
    "wait_time_2017_18=wait_time_list[0]\n",
    "wait_time_2016_17=wait_time_list[1]\n",
    "wait_time_2015_16=wait_time_list[2]\n",
    "wait_time_2014_15=wait_time_list[3]\n",
    "wait_time_2013_14=wait_time_list[4]\n",
    "wait_time_2012_13=wait_time_list[5]\n",
    "wait_time_2011_12=wait_time_list[6]\n",
    "wait_time_2010_11=wait_time_list[7]\n",
    "wait_time_2009_10=wait_time_list[8]\n",
    "wait_time_2008_09=wait_time_list[9]\n",
    "wait_time_2007_08=wait_time_list[10]\n",
    "\n",
    "\n",
    "#Function that we will use to put dataframes into one big super dataframe. To do this properly, will need to turn department row into column headings.\n",
    "wait_time_all=pd.concat([wait_time_2017_18,wait_time_2016_17,wait_time_2015_16,wait_time_2014_15,wait_time_2013_14,wait_time_2012_13,wait_time_2011_12,wait_time_2010_11,wait_time_2009_10,wait_time_2008_09,wait_time_2007_08], axis=0)\n"
   ]
  },
  {
   "cell_type": "code",
   "execution_count": 93,
   "id": "fb3805bf",
   "metadata": {},
   "outputs": [
    {
     "data": {
      "text/plain": [
       "06 < 13 Weeks, Q1     252.0\n",
       "13+ Weeks, Q1         111.0\n",
       "06 < 13 Weeks, Q2     156.0\n",
       "13+ Weeks, Q2         178.0\n",
       "06 < 13 Weeks, Q3     174.0\n",
       "                      ...  \n",
       "13+ Weeks, Q2         254.0\n",
       "06 < 13 Weeks, Q3    1653.0\n",
       "13+ Weeks, Q3         138.0\n",
       "06 < 13 Weeks, Q4     364.0\n",
       "13+ Weeks, Q4          72.0\n",
       "Name: vascular_technology, Length: 88, dtype: float64"
      ]
     },
     "execution_count": 93,
     "metadata": {},
     "output_type": "execute_result"
    }
   ],
   "source": []
  },
  {
   "cell_type": "code",
   "execution_count": null,
   "id": "287ebb4b",
   "metadata": {},
   "outputs": [],
   "source": []
  }
 ],
 "metadata": {
  "kernelspec": {
   "display_name": "Python 3 (ipykernel)",
   "language": "python",
   "name": "python3"
  },
  "language_info": {
   "codemirror_mode": {
    "name": "ipython",
    "version": 3
   },
   "file_extension": ".py",
   "mimetype": "text/x-python",
   "name": "python",
   "nbconvert_exporter": "python",
   "pygments_lexer": "ipython3",
   "version": "3.9.7"
  }
 },
 "nbformat": 4,
 "nbformat_minor": 5
}
